{
 "cells": [
  {
   "cell_type": "code",
   "execution_count": 10,
   "id": "8e7a0343",
   "metadata": {},
   "outputs": [],
   "source": [
    "import numpy as np \n",
    "import pandas as pd \n",
    "from sklearn.preprocessing import StandardScaler\n",
    "from sklearn.model_selection import cross_val_score, train_test_split\n",
    "from sklearn.svm import SVC\n",
    "from sklearn.metrics import accuracy_score, confusion_matrix, ConfusionMatrixDisplay\n",
    "import matplotlib.pyplot as plt\n",
    "from sklearn.model_selection import GridSearchCV\n",
    "from sklearn.pipeline import Pipeline"
   ]
  },
  {
   "cell_type": "code",
   "execution_count": 11,
   "id": "092d1b45",
   "metadata": {},
   "outputs": [],
   "source": [
    "dataset_path = '../../data/processed/cdts_prediction.csv'\n",
    "dataset = pd.read_csv(dataset_path)\n",
    "dataset = dataset.drop(columns=['codigo_cliente'])"
   ]
  },
  {
   "cell_type": "code",
   "execution_count": 12,
   "id": "67a5fceb",
   "metadata": {},
   "outputs": [
    {
     "name": "stdout",
     "output_type": "stream",
     "text": [
      "<class 'pandas.core.frame.DataFrame'>\n",
      "RangeIndex: 3778 entries, 0 to 3777\n",
      "Data columns (total 20 columns):\n",
      " #   Column                    Non-Null Count  Dtype  \n",
      "---  ------                    --------------  -----  \n",
      " 0   edad                      3778 non-null   float64\n",
      " 1   trabajo                   3778 non-null   object \n",
      " 2   estado_civil              3778 non-null   object \n",
      " 3   credito_en_mora           3778 non-null   object \n",
      " 4   credito_hipoteca          3778 non-null   object \n",
      " 5   credito_personal          3778 non-null   object \n",
      " 6   contacto                  3778 non-null   object \n",
      " 7   mes                       3778 non-null   object \n",
      " 8   dia_semana                3778 non-null   object \n",
      " 9   educacion                 3778 non-null   object \n",
      " 10  campania                  3778 non-null   float64\n",
      " 11  dias_transcurridos        3778 non-null   float64\n",
      " 12  contactos_previos         3778 non-null   float64\n",
      " 13  resultado_previas         3778 non-null   object \n",
      " 14  tasa_empleo               3778 non-null   float64\n",
      " 15  indice_precios_consum     3778 non-null   float64\n",
      " 16  indice_confianza_consum   3778 non-null   float64\n",
      " 17  tasa_credito_hipotecario  3778 non-null   float64\n",
      " 18  personas_empleadas        3778 non-null   float64\n",
      " 19  resultado                 3778 non-null   object \n",
      "dtypes: float64(9), object(11)\n",
      "memory usage: 590.4+ KB\n"
     ]
    }
   ],
   "source": [
    "dataset.info()"
   ]
  },
  {
   "cell_type": "code",
   "execution_count": 13,
   "id": "74c89511",
   "metadata": {},
   "outputs": [
    {
     "data": {
      "text/plain": [
       "(3778, 54)"
      ]
     },
     "execution_count": 13,
     "metadata": {},
     "output_type": "execute_result"
    }
   ],
   "source": [
    "y = dataset['resultado']\n",
    "dataset = dataset.drop(columns=['resultado'], axis=1)\n",
    "dataset_ohe = pd.get_dummies(dataset, drop_first=True)\n",
    "dataset_ohe.shape"
   ]
  },
  {
   "cell_type": "code",
   "execution_count": 14,
   "id": "de10f003",
   "metadata": {},
   "outputs": [],
   "source": [
    "X = dataset_ohe\n",
    "\n",
    "X_train, X_test, y_train, y_test = train_test_split(X,y, test_size=0.25)\n",
    "\n",
    "scaler = StandardScaler()\n",
    "\n",
    "numerical_columns = dataset_ohe.select_dtypes(include='number').columns.tolist()\n",
    "\n",
    "X_train[numerical_columns] = scaler.fit_transform(X_train[numerical_columns])\n",
    "X_test[numerical_columns]= scaler.transform(X_test[numerical_columns])"
   ]
  },
  {
   "cell_type": "code",
   "execution_count": 15,
   "id": "265f6512",
   "metadata": {},
   "outputs": [
    {
     "name": "stdout",
     "output_type": "stream",
     "text": [
      "\n",
      "La precisión (accuracy) del modelo Random Forest es: 0.78\n"
     ]
    },
    {
     "data": {
      "image/png": "[encoded data removed]",
      "text/plain": [
       "<Figure size 640x480 with 2 Axes>"
      ]
     },
     "metadata": {},
     "output_type": "display_data"
    }
   ],
   "source": [
    "# Crear una instancia del clasificador de Árbol de Decisión\n",
    "# random_state asegura que el resultado sea reproducible\n",
    "svm = SVC()\n",
    "\n",
    "# Entrenar el modelo con los datos de entrenamiento\n",
    "svm.fit(X_train, y_train)\n",
    "\n",
    "y_pred = svm.predict(X_test)\n",
    "\n",
    "accuracy = accuracy_score(y_test, y_pred)\n",
    "print(f\"\\nLa precisión (accuracy) del modelo Random Forest es: {accuracy:.2f}\")\n",
    "\n",
    "cm= confusion_matrix(y_test, y_pred)\n",
    "disp = ConfusionMatrixDisplay(confusion_matrix=cm)\n",
    "disp.plot()\n",
    "plt.show()"
   ]
  },
  {
   "cell_type": "code",
   "execution_count": null,
   "id": "0050e464",
   "metadata": {},
   "outputs": [
    {
     "name": "stdout",
     "output_type": "stream",
     "text": [
      "Fitting 5 folds for each of 32 candidates, totalling 160 fits\n"
     ]
    }
   ],
   "source": [
    "pipeline = Pipeline([\n",
    "    ('scaler', StandardScaler()),\n",
    "    ('svc', SVC(random_state=42)) \n",
    "])\n",
    "\n",
    "param_grid = {\n",
    "    'svc__C': [0.1, 1, 10, 100],            # Probar valores para el parámetro de regularización C\n",
    "    'svc__gamma': ['scale', 'auto', 0.1, 1], # Probar valores para gamma\n",
    "    'svc__kernel': ['rbf', 'linear']          # Probar los dos kernels más comunes\n",
    "}\n",
    "\n",
    "grid_search = GridSearchCV(\n",
    "    estimator=pipeline,\n",
    "    param_grid=param_grid,\n",
    "    cv=5,\n",
    "    n_jobs=-1,\n",
    "    scoring='accuracy',\n",
    "    verbose=2\n",
    ")\n",
    "\n",
    "grid_search.fit(X_train,y_train)\n",
    "\n",
    "best_model_svm = grid_search.best_estimator_"
   ]
  },
  {
   "cell_type": "code",
   "execution_count": null,
   "id": "27045624",
   "metadata": {},
   "outputs": [],
   "source": [
    "y_pred = best_model_svm.predict(X_test)"
   ]
  }
 ],
 "metadata": {
  "kernelspec": {
   "display_name": "base",
   "language": "python",
   "name": "python3"
  },
  "language_info": {
   "codemirror_mode": {
    "name": "ipython",
    "version": 3
   },
   "file_extension": ".py",
   "mimetype": "text/x-python",
   "name": "python",
   "nbconvert_exporter": "python",
   "pygments_lexer": "ipython3",
   "version": "3.10.18"
  }
 },
 "nbformat": 4,
 "nbformat_minor": 5
}
